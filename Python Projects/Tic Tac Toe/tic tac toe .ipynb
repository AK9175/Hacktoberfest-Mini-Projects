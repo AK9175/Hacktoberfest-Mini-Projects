{
 "cells": [
  {
   "cell_type": "code",
   "execution_count": 1,
   "metadata": {},
   "outputs": [],
   "source": [
    "from IPython.display import clear_output\n",
    "\n",
    "def display_board(board):\n",
    "    \n",
    "    clear_output()\n",
    "    \n",
    "    print(board[7]+' | '+board[8]+' | '+board[9])\n",
    "    print('---------')\n",
    "    print(board[4]+' | '+board[5]+' | '+board[6])\n",
    "    print('---------')\n",
    "    print(board[1]+' | '+board[2]+' | '+board[3])"
   ]
  },
  {
   "cell_type": "code",
   "execution_count": 2,
   "metadata": {},
   "outputs": [],
   "source": [
    "def player_input():\n",
    "    \n",
    "    marker = ''\n",
    "\n",
    "    while not(marker == 'X' or marker == 'O'):\n",
    "        \n",
    "        marker = input(\"Player 1, choose X or O : \").upper()\n",
    "         \n",
    "    if marker == 'X':\n",
    "        return ('X','O')\n",
    "        \n",
    "    else:\n",
    "        return ('O','X')"
   ]
  },
  {
   "cell_type": "code",
   "execution_count": 3,
   "metadata": {},
   "outputs": [],
   "source": [
    "def place_marker(board,marker,position):\n",
    "    \n",
    "    board[position] = marker\n",
    "    "
   ]
  },
  {
   "cell_type": "code",
   "execution_count": 4,
   "metadata": {},
   "outputs": [],
   "source": [
    "def win_check(board, mark):\n",
    "    \n",
    "    return ((board[1] == board[2] == board[3] == mark) or \n",
    "            (board[4] == board[5] == board[6] == mark) or \n",
    "            (board[7] == board[8] == board[9] == mark) or\n",
    "            (board[7] == board[4] == board[1] == mark) or\n",
    "            (board[8] == board[5] == board[2] == mark) or\n",
    "            (board[9] == board[6] == board[3] == mark) or\n",
    "            (board[1] == board[5] == board[9] == mark) or\n",
    "            (board[7] == board[5] == board[3] == mark))\n"
   ]
  },
  {
   "cell_type": "code",
   "execution_count": 5,
   "metadata": {},
   "outputs": [],
   "source": [
    "import random\n",
    "\n",
    "def choose_first():\n",
    "    \n",
    "    flip = random.randint(0,1)\n",
    "    \n",
    "    if flip == 0:\n",
    "        return 'Player 1'\n",
    "    else:\n",
    "        return 'Player 2'"
   ]
  },
  {
   "cell_type": "code",
   "execution_count": 6,
   "metadata": {},
   "outputs": [],
   "source": [
    "def space_check(board,position):\n",
    "    \n",
    "    return board[position] == ' '"
   ]
  },
  {
   "cell_type": "code",
   "execution_count": 7,
   "metadata": {},
   "outputs": [],
   "source": [
    "def full_board_check(board):\n",
    "    \n",
    "    for i in range(1,10):\n",
    "        if space_check(board,i):\n",
    "            return False\n",
    "    \n",
    "    # Board is full if we return TRUE\n",
    "    return True"
   ]
  },
  {
   "cell_type": "code",
   "execution_count": 8,
   "metadata": {},
   "outputs": [],
   "source": [
    "def player_choice(board):\n",
    "    \n",
    "    position = 0\n",
    "    \n",
    "    while position not in list(range(1,10)) or not space_check(board,position):\n",
    "        position = int(input(\"Choose a position : (1-9) \"))\n",
    "        \n",
    "        return position"
   ]
  },
  {
   "cell_type": "code",
   "execution_count": 9,
   "metadata": {},
   "outputs": [],
   "source": [
    "def replay():\n",
    "    \n",
    "    choice = input(\"Play again? Enter Yes or No \")\n",
    "    \n",
    "    return choice =='Yes'"
   ]
  },
  {
   "cell_type": "code",
   "execution_count": null,
   "metadata": {},
   "outputs": [
    {
     "name": "stdout",
     "output_type": "stream",
     "text": [
      "  |   | O\n",
      "---------\n",
      "  | X | X\n",
      "---------\n",
      "X |   | O\n"
     ]
    }
   ],
   "source": [
    "# WHILE LOOP to keep running the game\n",
    "\n",
    "print(\"Welcome to Tic Tac Toe\")\n",
    "\n",
    "while True:\n",
    "    # play game\n",
    "    \n",
    "    \n",
    "    ## SET EVERYTHING (board, marker (X,O), whos first,)\n",
    "    the_board = [' ']*10\n",
    "    player1_marker , player2_marker = player_input()\n",
    "    \n",
    "    turn = choose_first()\n",
    "    print(turn + ' will go first')\n",
    "    \n",
    "    play_game=input(\"Are you ready to play? Y or N \").upper()\n",
    "    \n",
    "    if play_game == 'Y':\n",
    "        game_on = True\n",
    "    else:\n",
    "        game_on = False\n",
    "        \n",
    "    ## game play\n",
    "    \n",
    "    while game_on:\n",
    "        \n",
    "        if turn == 'Player 1' : \n",
    "            \n",
    "            # SHow the board\n",
    "            display_board(the_board)\n",
    "            \n",
    "            #Choose a position\n",
    "            position = player_choice(the_board)\n",
    "            \n",
    "            #Place the marker at the positon\n",
    "            place_marker(the_board,player1_marker,position)\n",
    "            \n",
    "            #Check if there is a win \n",
    "            if win_check(the_board,player1_marker):\n",
    "                display_board(the_board)\n",
    "                print(\"Player 1 has won!!!!\")\n",
    "                game_on = False\n",
    "                \n",
    "            else:\n",
    "                if full_board_check(the_board):\n",
    "                    display_board(the_board)\n",
    "                    print(\" OOPS the game is a TIE !!!!\")\n",
    "                    game_on = False\n",
    "                    \n",
    "                else:\n",
    "                    turn = 'Player 2'               \n",
    "     \n",
    "\n",
    "    \n",
    "        else :\n",
    "                                 \n",
    "            # SHow the board\n",
    "            display_board(the_board)\n",
    "            \n",
    "            #Choose a position\n",
    "            position = player_choice(the_board)\n",
    "            \n",
    "            #Place the marker at the positon\n",
    "            place_marker(the_board,player2_marker,position)\n",
    "            \n",
    "            #Check if there is a win \n",
    "            if win_check(the_board,player2_marker):\n",
    "                display_board(the_board)\n",
    "                print(\"Player 2 has won!!!!\")\n",
    "                game_on = False\n",
    "                \n",
    "            else:\n",
    "                if full_board_check(the_board):\n",
    "                    display_board(the_board)\n",
    "                    print(\" OOPS the game is a TIE !!!!\")\n",
    "                    game_on = False\n",
    "                    \n",
    "                else:\n",
    "                    turn = 'Player 1'\n",
    "            \n",
    "            \n",
    "\n",
    "    \n",
    "    \n",
    "    \n",
    "    if not replay():\n",
    "        break\n",
    "# Break out of WHILE LOOP on replay()"
   ]
  },
  {
   "cell_type": "code",
   "execution_count": null,
   "metadata": {},
   "outputs": [],
   "source": []
  }
 ],
 "metadata": {
  "kernelspec": {
   "display_name": "Python 3",
   "language": "python",
   "name": "python3"
  },
  "language_info": {
   "codemirror_mode": {
    "name": "ipython",
    "version": 3
   },
   "file_extension": ".py",
   "mimetype": "text/x-python",
   "name": "python",
   "nbconvert_exporter": "python",
   "pygments_lexer": "ipython3",
   "version": "3.7.6"
  }
 },
 "nbformat": 4,
 "nbformat_minor": 4
}
